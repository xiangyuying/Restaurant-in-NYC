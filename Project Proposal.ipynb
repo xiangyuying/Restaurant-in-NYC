{
 "cells": [
  {
   "cell_type": "markdown",
   "id": "0cc25142",
   "metadata": {},
   "source": [
    "# analysis of NYC restaurant inspection"
   ]
  },
  {
   "cell_type": "markdown",
   "id": "c13737a2",
   "metadata": {},
   "source": [
    "Overview: The health department in NYC conducts inspection of restaurants every year. During which the restaurants' compliance of health code will be assessed. the inspection results are summarized in the following dataset, including the name and location of the restaurant being inspected,  CAMIS(the unique indentification code of the restaurant), date of inspection, violation of health code found and score for a particular inspection(more violation will result in higher score). Note that the dataset only record active restaurant in NYC and was last updated on July28 2021\n",
    "\n",
    "Data Source: NYC OPEN DATA (see https://data.cityofnewyork.us/Health/DOHMH-New-York-City-Restaurant-Inspection-Results/43nn-pn8j)"
   ]
  },
  {
   "cell_type": "markdown",
   "id": "2a87655a",
   "metadata": {},
   "source": [
    "Research Question: \n",
    "Which borough provides the highest level of food safety? which one provides the lowest?\n",
    "\n",
    "The answer to this question could serve as guidance to newcomers to NYC. If there is a borough that has a unusually high average score, it would be best practice to avoid the restaurants in that borough when visiting New York City. "
   ]
  },
  {
   "cell_type": "markdown",
   "id": "82d09659",
   "metadata": {},
   "source": [
    "Data Processing: \n",
    "1. convert inspection date to a datetime object \n",
    "2.remove duplicated rows \n",
    "3.remove new restaurants that have not been inspected yet"
   ]
  },
  {
   "cell_type": "markdown",
   "id": "5d54a248",
   "metadata": {},
   "source": [
    "Analysis:\n",
    "1. use the score of the most recent inspection to reflect the current safeness of a restaurant\n",
    "2. compute the mean score of each borough\n",
    "3. plot the mean score on a histogram\n",
    "4. compute the percentage of 'A' tier restaurants in each borough(according to NYC health department, restaurant with score lower than 14 is graded 'A')"
   ]
  },
  {
   "cell_type": "code",
   "execution_count": null,
   "id": "47309372",
   "metadata": {},
   "outputs": [],
   "source": []
  }
 ],
 "metadata": {
  "kernelspec": {
   "display_name": "Python 3",
   "language": "python",
   "name": "python3"
  },
  "language_info": {
   "codemirror_mode": {
    "name": "ipython",
    "version": 3
   },
   "file_extension": ".py",
   "mimetype": "text/x-python",
   "name": "python",
   "nbconvert_exporter": "python",
   "pygments_lexer": "ipython3",
   "version": "3.8.8"
  }
 },
 "nbformat": 4,
 "nbformat_minor": 5
}
